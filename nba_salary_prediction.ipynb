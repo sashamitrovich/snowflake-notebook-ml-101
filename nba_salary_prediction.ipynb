
# NBA Salary Prediction Based on Years Played

This notebook demonstrates how to build a simple machine learning model to predict the salary of an NBA player based on the number of years they have played in the league.

## Step 1: Import Libraries and Load the Data

```python
import pandas as pd
import numpy as np
import matplotlib.pyplot as plt
import seaborn as sns
from sklearn.model_selection import train_test_split
from sklearn.linear_model import LinearRegression
from sklearn.metrics import mean_squared_error, r2_score

# Load your dataset
# Assuming your dataset is in a CSV file
data = pd.read_csv('nba_salary_data.csv')

# Preview the data
print(data.head())
```

## Step 2: Data Exploration and Visualization

```python
# Check for missing values
print(data.isnull().sum())

# Basic statistics
print(data.describe())

# Visualize the relationship between years played and salary
sns.scatterplot(x='YearsPlayed', y='Salary', data=data)
plt.xlabel('Years Played')
plt.ylabel('Salary')
plt.title('Years Played vs Salary')
plt.show()
```

## Step 3: Prepare the Data

```python
# Select the feature(s) and target variable
X = data[['YearsPlayed']]  # Independent variable
y = data['Salary']         # Dependent variable

# Split the data into training and testing sets
X_train, X_test, y_train, y_test = train_test_split(X, y, test_size=0.2, random_state=42)

print(f'Training set size: {X_train.shape[0]}')
print(f'Test set size: {X_test.shape[0]}')
```

## Step 4: Train the Model

```python
# Create a linear regression model
model = LinearRegression()

# Train the model
model.fit(X_train, y_train)

# Output the coefficients
print(f'Intercept: {model.intercept_}')
print(f'Coefficient: {model.coef_[0]}')
```

## Step 5: Evaluate the Model

```python
# Make predictions on the test set
y_pred = model.predict(X_test)

# Evaluate the model
mse = mean_squared_error(y_test, y_pred)
r2 = r2_score(y_test, y_pred)

print(f'Mean Squared Error: {mse}')
print(f'R^2 Score: {r2}')

# Visualize the regression line
plt.scatter(X_test, y_test, color='blue')
plt.plot(X_test, y_pred, color='red', linewidth=2)
plt.xlabel('Years Played')
plt.ylabel('Salary')
plt.title('Regression Line: Years Played vs Salary')
plt.show()
```

## Step 6: Make Predictions

```python
# Predict the salary for a player with a certain number of years played
years_played = np.array([[5]])  # Example: predicting salary for a player with 5 years played
predicted_salary = model.predict(years_played)
print(f'Predicted Salary for {years_played[0][0]} years played: ${predicted_salary[0]:.2f}')
```

## Summary
This notebook provides a simple implementation of a linear regression model to predict NBA salaries based on the number of years played. Depending on the available data, the model could be enhanced by incorporating additional features or by using more complex algorithms.
