{
 "metadata": {
  "language_info": {
   "name": "python"
  }
 },
 "nbformat_minor": 2,
 "nbformat": 4,
 "cells": [
  {
   "cell_type": "markdown",
   "metadata": {
    "name": "cell1",
    "collapsed": false
   },
   "source": "# NBA Salary Prediction Based on Age of player\n\nThis notebook demonstrates how to build a simple machine learning model to predict the salary of an NBA player based on the number of years they have played in the league.\n\n## Step 1: Import Libraries and Load the Data",
   "id": "ce110000-1111-2222-3333-ffffff000000"
  },
  {
   "cell_type": "code",
   "execution_count": null,
   "metadata": {
    "name": "cell2",
    "language": "python",
    "collapsed": false,
    "codeCollapsed": false
   },
   "outputs": [],
   "source": "import numpy as np\nimport matplotlib.pyplot as plt\nimport streamlit as st\n\nimport snowflake.snowpark.types as t\nimport snowflake.snowpark.functions as f\n\nfrom snowflake.snowpark import DataFrame\n\nfrom snowflake.ml.registry import Registry\nfrom snowflake.ml.modeling.linear_model import LinearRegression\nfrom snowflake.ml.modeling.neural_network import MLPRegressor\nimport snowflake.ml.modeling.metrics as metrics\nfrom snowflake.ml.modeling.preprocessing import StandardScaler\n\n\n# create Snowflake session so we can work with data\nfrom snowflake.snowpark.context import get_active_session\nsession = get_active_session()",
   "id": "ce110000-1111-2222-3333-ffffff000001"
  },
  {
   "cell_type": "code",
   "id": "dd566353-02ee-4cfb-81db-f18c4eeca8fb",
   "metadata": {
    "language": "sql",
    "name": "cell34",
    "codeCollapsed": false,
    "collapsed": false
   },
   "outputs": [],
   "source": "-- use schema snowpark_playground.nba;\n-- ls @SNOWFLAKE_NOTEBOOK_ML_101/branches/main;",
   "execution_count": null
  },
  {
   "cell_type": "code",
   "id": "11ccf793-4d99-476b-862e-4238e2b442fd",
   "metadata": {
    "language": "sql",
    "name": "cell40",
    "collapsed": false
   },
   "outputs": [],
   "source": "-- select $1 from @snowpark_playground.nba.snowflake_notebook_ml_101/branches/main/nba.csv;\n\n-- CREATE FILE FORMAT if not exists my_csv_format\n--   TYPE = csv\n--   PARSE_HEADER = true;\n\n-- SELECT *\n--   FROM TABLE(\n--     INFER_SCHEMA(\n--       LOCATION=>'@snowflake_notebook_ml_101/branches/main/nba.csv'\n--       , FILE_FORMAT=>'my_csv_format'\n--       )\n--     );",
   "execution_count": null
  },
  {
   "cell_type": "code",
   "id": "ae8cdb26-6cce-4dec-9eb5-b3e47dca2a94",
   "metadata": {
    "language": "python",
    "name": "cell38",
    "collapsed": false,
    "codeCollapsed": false
   },
   "outputs": [],
   "source": "# df_nba = session.read.option(\"INFER_SCHEMA\", True).option(\"PARSE_HEADER\", True).csv(\"@snowflake_notebook_ml_101/branches/main/nba.csv\")\n\n# df_nba.show()",
   "execution_count": null
  },
  {
   "cell_type": "code",
   "id": "9af0250f-77bc-4758-822b-964e650a2e8c",
   "metadata": {
    "language": "python",
    "name": "cell41",
    "codeCollapsed": false
   },
   "outputs": [],
   "source": "# import pandas as pd\n# df = pd.read_csv(\"nba.csv\")\n# df",
   "execution_count": null
  },
  {
   "cell_type": "code",
   "id": "ca4b9a7f-34ed-415c-9ccf-99ac0d28db59",
   "metadata": {
    "language": "python",
    "name": "cell32",
    "codeCollapsed": false,
    "collapsed": false
   },
   "outputs": [],
   "source": "# Load the nba.csv dataset from Snowflake, for instance using Snowsight\n# .... loading....done.\n\n# assuming this is where the data was loaded\n# change this if your data is elsewhere\ndata = session.table('SNOWPARK_PLAYGROUND.NBA.SALARIES')\n\n# Preview the data\ndata.show()",
   "execution_count": null
  },
  {
   "cell_type": "markdown",
   "metadata": {
    "name": "cell3",
    "collapsed": false
   },
   "source": [
    "## Step 2: Data Exploration and Visualization"
   ],
   "id": "ce110000-1111-2222-3333-ffffff000002"
  },
  {
   "cell_type": "code",
   "id": "2e5b4fa9-ac04-4d82-9685-129f6277602d",
   "metadata": {
    "language": "python",
    "name": "cell21",
    "codeCollapsed": false,
    "collapsed": false
   },
   "outputs": [],
   "source": "# check the schema\nlist(data.schema)",
   "execution_count": null
  },
  {
   "cell_type": "code",
   "execution_count": null,
   "metadata": {
    "name": "cell4",
    "language": "python",
    "codeCollapsed": false,
    "collapsed": false
   },
   "outputs": [],
   "source": "# Basic statistics\nst.write(data.describe())\n\n\n# Visualize the relationship between age and salary\nplt.scatter(x='AGE', y='SALARY', data=data.to_pandas())\nplt.xlabel('AGE')\nplt.ylabel('SALARY')\nplt.title('Age vs Salary')\nplt.show()",
   "id": "ce110000-1111-2222-3333-ffffff000003"
  },
  {
   "cell_type": "markdown",
   "metadata": {
    "name": "cell5",
    "collapsed": false
   },
   "source": [
    "## Step 3: Prepare the Data"
   ],
   "id": "ce110000-1111-2222-3333-ffffff000004"
  },
  {
   "cell_type": "code",
   "execution_count": null,
   "metadata": {
    "name": "cell6",
    "language": "python",
    "codeCollapsed": false,
    "collapsed": false
   },
   "outputs": [],
   "source": "# Split the data into training and testing sets\ndata_train, data_test = data.random_split(weights=[0.8, 0.2], seed=0)\n\n# cast so we don't get complaints\n# optional but you'll get warning later if you don't do it\ndata_train=\\\ndata_train.select([f.col(\"AGE\").cast('double').as_('AGE'),f.col(\"SALARY\").cast('double').as_('SALARY')])\n\ndata_test=\\\ndata_test.select([f.col(\"AGE\").cast('double').as_('AGE'),f.col(\"SALARY\").cast('double').as_('SALARY')])\n\nst.write(data_train.describe())\nlist(data_train.schema)\n",
   "id": "ce110000-1111-2222-3333-ffffff000005"
  },
  {
   "cell_type": "code",
   "id": "087ca991-a3fd-4d14-bce2-8423b2721402",
   "metadata": {
    "language": "python",
    "name": "cell22",
    "codeCollapsed": false,
    "collapsed": false
   },
   "outputs": [],
   "source": "#let's count missing values (rows) per column\ndef null_columns(df: DataFrame):\n    total_records = df.count()\n    for column in df.columns:\n        not_null_count = f.count(column)\n        df = df.withColumn(column, f.lit(total_records - not_null_count))\n    return df.limit(1)\n\nst.write(null_columns(data_train))\nst.write(null_columns(data_test))",
   "execution_count": null
  },
  {
   "cell_type": "code",
   "id": "20c4b42f-d780-483b-84d8-cc435a7269b3",
   "metadata": {
    "language": "python",
    "name": "cell14",
    "codeCollapsed": false,
    "collapsed": false
   },
   "outputs": [],
   "source": "# drop NaNs\ndata_train = data_train.dropna()\ndata_test = data_train.dropna()\n\n\n# Check for missing values again - good to go?\nst.write(null_columns(data_train))\nst.write(null_columns(data_test))",
   "execution_count": null
  },
  {
   "cell_type": "markdown",
   "metadata": {
    "name": "cell7",
    "collapsed": false
   },
   "source": [
    "## Step 4: Train the Model"
   ],
   "id": "ce110000-1111-2222-3333-ffffff000006"
  },
  {
   "cell_type": "code",
   "id": "d3db1623-0988-4670-aa96-6a94e8aace9a",
   "metadata": {
    "language": "python",
    "name": "cell23",
    "collapsed": false,
    "codeCollapsed": false
   },
   "outputs": [],
   "source": "# care to comment?\nfeatures=['AGE']\nlabels=['SALARY']",
   "execution_count": null
  },
  {
   "cell_type": "code",
   "execution_count": null,
   "metadata": {
    "name": "cell8",
    "language": "python",
    "codeCollapsed": false,
    "collapsed": false
   },
   "outputs": [],
   "source": "# Create a linear regression model\nmodel = LinearRegression(\n    input_cols=features,\n    label_cols=labels\n)\n\n# Fit the model\nmodel.fit(data_train)\n\n# Output the linear reg. model coefficients (have to explicitely convert to sklearn for this)\nmodel_local=model.to_sklearn()\nprint(f'Intercept: {model_local.intercept_}')\nprint(f'Coefficient: {model_local.coef_[0]}')",
   "id": "ce110000-1111-2222-3333-ffffff000007"
  },
  {
   "cell_type": "markdown",
   "metadata": {
    "name": "cell9",
    "collapsed": false
   },
   "source": "## Step 5: Evaluate the Linear Regression Model",
   "id": "ce110000-1111-2222-3333-ffffff000008"
  },
  {
   "cell_type": "code",
   "id": "58111312-40f0-4a34-a6e8-bd5b2dfc4877",
   "metadata": {
    "language": "python",
    "name": "cell24",
    "collapsed": false,
    "codeCollapsed": false
   },
   "outputs": [],
   "source": "# Make predictions on the test set\npred = model.predict(data_test)",
   "execution_count": null
  },
  {
   "cell_type": "code",
   "id": "34aa6eb4-ee00-4d04-a5cf-afc3658826a2",
   "metadata": {
    "language": "python",
    "name": "cell26",
    "codeCollapsed": false,
    "collapsed": false
   },
   "outputs": [],
   "source": "# check out the result\npred",
   "execution_count": null
  },
  {
   "cell_type": "code",
   "execution_count": null,
   "metadata": {
    "name": "cell10",
    "language": "python",
    "codeCollapsed": false,
    "collapsed": false
   },
   "outputs": [],
   "source": "\n# Evaluate the model\nmse = metrics.mean_squared_error(df=pred,y_true_col_names=['SALARY'], y_pred_col_names=['OUTPUT_SALARY'])\nr2=metrics.r2_score(df=pred,y_true_col_name='SALARY', y_pred_col_name='OUTPUT_SALARY')\n\nprint(f'Mean Squared Error: {mse}')\nprint(f'R^2 Score: {r2}')\n\npred=pred.sort(f.col('AGE').desc())\n\ny_pred = np.array(pred.select('OUTPUT_SALARY').collect())\nx_pred= np.array(pred.select('AGE').collect())\n\nplt.scatter(x='AGE',y='SALARY',data=data_test.to_pandas(), color='blue')\nplt.plot(x_pred, y_pred, color='red', linewidth=2)\nplt.xlabel('AGE')\nplt.ylabel('SALARY')\nplt.title('Linear Regression: Age vs Salary')\nplt.show()",
   "id": "ce110000-1111-2222-3333-ffffff000009"
  },
  {
   "cell_type": "markdown",
   "metadata": {
    "name": "cell11",
    "collapsed": false
   },
   "source": "## Step 6: Make a prediction for age of 25",
   "id": "ce110000-1111-2222-3333-ffffff000010"
  },
  {
   "cell_type": "code",
   "execution_count": null,
   "metadata": {
    "name": "cell12",
    "language": "python",
    "codeCollapsed": false,
    "collapsed": false
   },
   "outputs": [],
   "source": "# Predict the salary for a player with a certain age\nplayer_age=25\nage = session.create_dataframe([player_age], schema=['AGE'])\npredicted_salary = model.predict(age)\npredicted_salary",
   "id": "ce110000-1111-2222-3333-ffffff000011"
  },
  {
   "cell_type": "markdown",
   "id": "582adcd5-a31e-4390-b09a-d4b25c2af3e7",
   "metadata": {
    "name": "cell16",
    "collapsed": false
   },
   "source": "## Step 7. Fit a Neural Network Model"
  },
  {
   "cell_type": "code",
   "id": "01e15da1-6c17-4696-8508-a8ffaa257656",
   "metadata": {
    "language": "python",
    "name": "cell15",
    "collapsed": false,
    "codeCollapsed": false
   },
   "outputs": [],
   "source": "# Scale the data (standardization)\nscaler = StandardScaler(\n    input_cols=['AGE'],\n    output_cols=['AGE_SCALED']\n)\n\nscaler.fit(data_test)\ndata_train_scaled = scaler.transform(data_train)\ndata_test_scaled=scaler.transform(data_test)\n\n\n# Create the MLPRegressor model\n# Try playing with the parameters!\nmlp = MLPRegressor(\n    input_cols=['AGE_SCALED'],\n    label_cols=labels,\n    hidden_layer_sizes=(64, 64), activation='relu', solver='lbfgs', max_iter=500, random_state=1)\n\n# Fit the model\nres= mlp.fit(data_train_scaled)\n\n# Run predictions\npred_mlp=mlp.predict(data_test_scaled)",
   "execution_count": null
  },
  {
   "cell_type": "markdown",
   "id": "da08174e-e7f0-4450-8eff-922f1ed0d223",
   "metadata": {
    "name": "cell17",
    "collapsed": false
   },
   "source": "## Step 8. Evaluate a NNM"
  },
  {
   "cell_type": "code",
   "id": "f0635fe3-92de-47bd-9a0a-19211f98cc25",
   "metadata": {
    "language": "python",
    "name": "cell27",
    "codeCollapsed": false,
    "collapsed": false
   },
   "outputs": [],
   "source": "# check the output\npred_mlp",
   "execution_count": null
  },
  {
   "cell_type": "code",
   "id": "a8931b9b-85d0-41a8-81af-0ca6646923ba",
   "metadata": {
    "language": "python",
    "name": "cell18",
    "codeCollapsed": false,
    "collapsed": false
   },
   "outputs": [],
   "source": "# Let's evaluate\n\ndata_test=data_test.sort(f.col('AGE').desc())\ndata_sorted=data.sort(f.col('AGE').desc())\n\npred_mlp=pred_mlp.sort(f.col('AGE_SCALED').desc())\n\n\nmse_mlp = metrics.mean_squared_error(df=pred_mlp,y_true_col_names=['SALARY'], y_pred_col_names=['OUTPUT_SALARY'])\nr2_mlp=metrics.r2_score(df=pred_mlp,y_true_col_name='SALARY', y_pred_col_name='OUTPUT_SALARY')\n\nprint(f'Mean Squared Error: {mse_mlp}')\nprint(f'R^2 Score: {r2_mlp}')\n\nx_test= np.array(data_test.select('AGE').collect())\ny_pred = np.array(pred_mlp.select('OUTPUT_SALARY').collect())\n\n# Visualize the results\nplt.scatter(x='AGE',y='SALARY',data=data_sorted.to_pandas(), color='blue', label='Actual')\n# plt.scatter(X_test, y_test, color='blue', label='Actual')\nplt.plot(x_test, y_pred, color='red', label='Predicted')\nplt.xlabel('Age')\nplt.ylabel('Salary')\nplt.title('MLPRegressor: Age vs Salary')\nplt.legend()\nplt.show()\n",
   "execution_count": null
  },
  {
   "cell_type": "markdown",
   "id": "9b1ea548-9a2c-4ced-b749-a17685bdfe5d",
   "metadata": {
    "name": "cell19",
    "collapsed": false
   },
   "source": "## Step 9. Make a prediction for the age of 25"
  },
  {
   "cell_type": "code",
   "id": "4991b419-5ada-4dce-b46d-ac09222fc57e",
   "metadata": {
    "language": "python",
    "name": "cell20",
    "codeCollapsed": false,
    "collapsed": false
   },
   "outputs": [],
   "source": "# Predict the salary for a player with a certain number of years played\nage = session.create_dataframe([player_age], schema=['AGE'])\n\nage_scaled = scaler.transform(age)\n\npredicted_salary = mlp.predict(age_scaled)\npredicted_salary\n\n",
   "execution_count": null
  },
  {
   "cell_type": "markdown",
   "id": "10afc211-5fee-433f-8e8c-3469c75481d9",
   "metadata": {
    "name": "cell39",
    "collapsed": false
   },
   "source": "## Step 10. Register models"
  },
  {
   "cell_type": "code",
   "id": "fa724afb-9553-403c-89fe-2ca17e56d1d6",
   "metadata": {
    "language": "sql",
    "name": "cell28",
    "codeCollapsed": false,
    "collapsed": false
   },
   "outputs": [],
   "source": "-- model registry\ncreate schema if not exists snowpark_playground.registry",
   "execution_count": null
  },
  {
   "cell_type": "code",
   "id": "9dd64c42-f160-41d3-a333-af9ed9354a7b",
   "metadata": {
    "language": "python",
    "name": "cell25",
    "codeCollapsed": false,
    "collapsed": false
   },
   "outputs": [],
   "source": "# create a Snowflake Registry object\nreg = Registry(session=session, database_name=\"SNOWPARK_PLAYGROUND\", schema_name=\"REGISTRY\")",
   "execution_count": null
  },
  {
   "cell_type": "code",
   "id": "69506a0e-daee-4d19-9960-e072aeb74fbd",
   "metadata": {
    "language": "python",
    "name": "cell29",
    "collapsed": false,
    "codeCollapsed": false
   },
   "outputs": [],
   "source": "# Register the Linear Regression model\nmv = reg.log_model(model,\n                   model_name=\"nba_salary_lin_reg\",\n                   # conda_dependencies=[\"scikit-learn\"],\n                   comment=\"A LinearRegression ML model that predicts NBA salaries\",\n                   metrics={\"r2\": r2},\n                   # sample_input_data=data_train,\n                   options = {'relax_version':False}\n                  )\n\n#what did we get back?\nmv",
   "execution_count": null
  },
  {
   "cell_type": "code",
   "id": "30b92348-e74c-4f2e-9d21-ce436f3a010c",
   "metadata": {
    "language": "python",
    "name": "cell31",
    "collapsed": false
   },
   "outputs": [],
   "source": "reg.log_model(mlp,\n             model_name=\"nba_salary_mlp\",\n             comment = \"A MLPRegressor ML model for predicting NBA salaries\",\n             metrics={\"r2\":r2_mlp,\"mse\":mse_mlp},\n            options = {'relax_version':False}\n            )",
   "execution_count": null
  },
  {
   "cell_type": "code",
   "id": "519d2e1d-ce73-4f11-968c-13e89b9de3fb",
   "metadata": {
    "language": "python",
    "name": "cell33",
    "collapsed": false
   },
   "outputs": [],
   "source": "# Check the models in the registry\nreg.show_models()",
   "execution_count": null
  },
  {
   "cell_type": "markdown",
   "id": "fd2ff688-7c3d-4318-862e-30db0cd8fade",
   "metadata": {
    "name": "cell30",
    "collapsed": false
   },
   "source": "## 11. Use a registered model to create predictions on data in Snowflake "
  },
  {
   "cell_type": "code",
   "id": "7b121a76-3033-447e-829c-3896186089e3",
   "metadata": {
    "language": "python",
    "name": "cell35",
    "collapsed": false
   },
   "outputs": [],
   "source": "# Create a view that will be used in SQL to predict the target variable\ndata_test_scaled.create_or_replace_temp_view('snowpark_playground.nba.INFERENCE_TEST')",
   "execution_count": null
  },
  {
   "cell_type": "code",
   "id": "159f7a2f-ea6b-4367-9c19-2e8123324262",
   "metadata": {
    "language": "sql",
    "name": "cell36",
    "codeCollapsed": false,
    "collapsed": false
   },
   "outputs": [],
   "source": "select * from snowpark_playground.nba.inference_test limit 10;",
   "execution_count": null
  },
  {
   "cell_type": "code",
   "id": "b092948a-fa1b-4d4d-9597-5a77cfa3e609",
   "metadata": {
    "language": "sql",
    "name": "cell37",
    "collapsed": false,
    "codeCollapsed": false
   },
   "outputs": [],
   "source": "use schema snowpark_playground.registry;\n\n-- call predict from the latest model version\nWITH latest AS MODEL NBA_SALARY_MLP VERSION LAST\n    SELECT AGE, (latest!predict(AGE_SCALED)):OUTPUT_SALARY::double as salary_prediction FROM snowpark_playground.nba.inference_test;",
   "execution_count": null
  },
  {
   "cell_type": "markdown",
   "metadata": {
    "name": "cell13",
    "collapsed": false
   },
   "source": "## Summary\nThis notebook provides a simple implementation of a linear regression model and MLPRegressor model to predict NBA salaries based on the age of the player. It also shows how to work with a Model Registry in Snowflake and how to use a registered model in SQL to run a prediction on a Snowflake table or view. \nDepending on the available data, the model could be enhanced by incorporating additional features or by using more complex models.\n",
   "id": "ce110000-1111-2222-3333-ffffff000012"
  }
 ]
}