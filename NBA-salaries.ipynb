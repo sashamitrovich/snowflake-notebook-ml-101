{
 "metadata": {
  "language_info": {
   "name": "python"
  }
 },
 "nbformat_minor": 2,
 "nbformat": 4,
 "cells": [
  {
   "cell_type": "markdown",
   "metadata": {
    "name": "cell1",
    "collapsed": false
   },
   "source": "# NBA Salary Prediction Based on Age of player\n\nThis notebook demonstrates how to build a simple machine learning model to predict the salary of an NBA player based on the number of years they have played in the league.\n\n## Step 1: Import Libraries and Load the Data",
   "id": "ce110000-1111-2222-3333-ffffff000000"
  },
  {
   "cell_type": "code",
   "execution_count": null,
   "metadata": {
    "name": "cell2",
    "language": "python",
    "collapsed": false,
    "codeCollapsed": false
   },
   "outputs": [],
   "source": "# import pandas as pd\nimport numpy as np\nimport matplotlib.pyplot as plt\nimport seaborn as sns\nimport streamlit as st\nimport altair as alt\nimport snowflake.snowpark.types as t\nimport snowflake.snowpark.functions as f\n\nfrom snowflake.ml.modeling.linear_model import LinearRegression\nfrom snowflake.ml.modeling.neural_network import MLPRegressor\nimport snowflake.ml.modeling.metrics as metrics\nfrom snowflake.ml.modeling.preprocessing import StandardScaler",
   "id": "ce110000-1111-2222-3333-ffffff000001"
  },
  {
   "cell_type": "code",
   "id": "ca4b9a7f-34ed-415c-9ccf-99ac0d28db59",
   "metadata": {
    "language": "python",
    "name": "cell32",
    "codeCollapsed": false
   },
   "outputs": [],
   "source": "# Load your dataset from Snowflake\nfrom snowflake.snowpark.context import get_active_session\nsession = get_active_session()\n\ndata = session.table('SNOWPARK_PLAYGROUND.NBA.SALARIES')\n\n# Preview the data\ndata.show()",
   "execution_count": null
  },
  {
   "cell_type": "markdown",
   "metadata": {
    "name": "cell3",
    "collapsed": false
   },
   "source": [
    "## Step 2: Data Exploration and Visualization"
   ],
   "id": "ce110000-1111-2222-3333-ffffff000002"
  },
  {
   "cell_type": "code",
   "id": "2e5b4fa9-ac04-4d82-9685-129f6277602d",
   "metadata": {
    "language": "python",
    "name": "cell21",
    "codeCollapsed": false
   },
   "outputs": [],
   "source": "# schema\nlist(data.schema)",
   "execution_count": null
  },
  {
   "cell_type": "code",
   "id": "087ca991-a3fd-4d14-bce2-8423b2721402",
   "metadata": {
    "language": "python",
    "name": "cell22",
    "codeCollapsed": false
   },
   "outputs": [],
   "source": "from snowflake.snowpark import DataFrame\nfrom snowflake.snowpark.functions import lit, col, count\n\n#let's check for missing values\ndef null_columns(df: DataFrame):\n    total_records = df.count()\n    for column in df.columns:\n        not_null_count = count(column)\n        df = df.withColumn(column, lit(total_records - not_null_count))\n    return df.limit(1)\nnull_columns(data)",
   "execution_count": null
  },
  {
   "cell_type": "code",
   "execution_count": null,
   "metadata": {
    "name": "cell4",
    "language": "python",
    "codeCollapsed": false
   },
   "outputs": [],
   "source": "# Basic statistics\nst.write(data.describe())\n\n\n# Visualize the relationship between age and salary\nsns.scatterplot(x='AGE', y='SALARY', data=data.to_pandas())\nplt.xlabel('AGE')\nplt.ylabel('SALARY')\nplt.title('Age vs Salary')\nplt.show()",
   "id": "ce110000-1111-2222-3333-ffffff000003"
  },
  {
   "cell_type": "code",
   "id": "20c4b42f-d780-483b-84d8-cc435a7269b3",
   "metadata": {
    "language": "python",
    "name": "cell14",
    "codeCollapsed": false
   },
   "outputs": [],
   "source": "# drop NaNs\ndata = data.dropna()\n\n# Check for missing values\nnull_columns(data)",
   "execution_count": null
  },
  {
   "cell_type": "markdown",
   "metadata": {
    "name": "cell5",
    "collapsed": false
   },
   "source": [
    "## Step 3: Prepare the Data"
   ],
   "id": "ce110000-1111-2222-3333-ffffff000004"
  },
  {
   "cell_type": "code",
   "execution_count": null,
   "metadata": {
    "name": "cell6",
    "language": "python",
    "codeCollapsed": false,
    "collapsed": false
   },
   "outputs": [],
   "source": "# Select the feature(s) and target variable\nX = data[['AGE']]  # Independent variable\ny = data['SALARY']         # Dependent variable\n\n# Split the data into training and testing sets\ndata_train, data_test = data.random_split(weights=[0.8, 0.2], seed=0)\n\n# cast so we don't get complaints\ndata_train=\\\ndata_train.select([f.col(\"AGE\").cast('double').as_('AGE'),f.col(\"SALARY\").cast('double').as_('SALARY')])\n\ndata_test=\\\ndata_test.select([f.col(\"AGE\").cast('double').as_('AGE'),f.col(\"SALARY\").cast('double').as_('SALARY')])\n\ndata_train.describe()\n# data_test.describe()",
   "id": "ce110000-1111-2222-3333-ffffff000005"
  },
  {
   "cell_type": "markdown",
   "metadata": {
    "name": "cell7",
    "collapsed": false
   },
   "source": [
    "## Step 4: Train the Model"
   ],
   "id": "ce110000-1111-2222-3333-ffffff000006"
  },
  {
   "cell_type": "code",
   "id": "d3db1623-0988-4670-aa96-6a94e8aace9a",
   "metadata": {
    "language": "python",
    "name": "cell23",
    "collapsed": false,
    "codeCollapsed": false
   },
   "outputs": [],
   "source": "features=['AGE']\nlabels=['SALARY']",
   "execution_count": null
  },
  {
   "cell_type": "code",
   "execution_count": null,
   "metadata": {
    "name": "cell8",
    "language": "python",
    "codeCollapsed": false,
    "collapsed": false
   },
   "outputs": [],
   "source": "# Create a linear regression model\nmodel = LinearRegression(\n    input_cols=features,\n    label_cols=labels\n)\n\n\n# Train the model\nmodel.fit(data_train)\n\n\n# Output the linear reg. model coefficients (have to convert to sklearn for this)\nmodel_local=model.to_sklearn()\nprint(f'Intercept: {model_local.intercept_}')\nprint(f'Coefficient: {model_local.coef_[0]}')",
   "id": "ce110000-1111-2222-3333-ffffff000007"
  },
  {
   "cell_type": "markdown",
   "metadata": {
    "name": "cell9",
    "collapsed": false
   },
   "source": [
    "## Step 5: Evaluate the Model"
   ],
   "id": "ce110000-1111-2222-3333-ffffff000008"
  },
  {
   "cell_type": "code",
   "id": "58111312-40f0-4a34-a6e8-bd5b2dfc4877",
   "metadata": {
    "language": "python",
    "name": "cell24",
    "collapsed": false,
    "codeCollapsed": false
   },
   "outputs": [],
   "source": "# Make predictions on the test set\npred = model.predict(data_test)",
   "execution_count": null
  },
  {
   "cell_type": "code",
   "id": "34aa6eb4-ee00-4d04-a5cf-afc3658826a2",
   "metadata": {
    "language": "python",
    "name": "cell26",
    "codeCollapsed": false
   },
   "outputs": [],
   "source": "# check out the result\npred",
   "execution_count": null
  },
  {
   "cell_type": "code",
   "execution_count": null,
   "metadata": {
    "name": "cell10",
    "language": "python",
    "codeCollapsed": false,
    "collapsed": false
   },
   "outputs": [],
   "source": "\n# Evaluate the model\nmse = metrics.mean_squared_error(df=pred,y_true_col_names=['SALARY'], y_pred_col_names=['OUTPUT_SALARY'])\nr2=metrics.r2_score(df=pred,y_true_col_name='SALARY', y_pred_col_name='OUTPUT_SALARY')\n\nprint(f'Mean Squared Error: {mse}')\nprint(f'R^2 Score: {r2}')\n\npred=pred.sort(col('AGE').desc())\n\ny_pred = np.array(pred.select('OUTPUT_SALARY').collect())\nx_test= np.array(pred.select('AGE').collect())\n\n# plt.scatter(x='AGE',y='OUTPUT_SALARY',data=pred.to_pandas(), color='red')\nplt.scatter(x='AGE',y='SALARY',data=data_test.to_pandas(), color='blue')\nplt.plot(x_test, y_pred, color='red', linewidth=2)\nplt.xlabel('AGE')\nplt.ylabel('SALARY')\nplt.title('Age vs Salary')\nplt.show()\n\n",
   "id": "ce110000-1111-2222-3333-ffffff000009"
  },
  {
   "cell_type": "markdown",
   "metadata": {
    "name": "cell11",
    "collapsed": false
   },
   "source": [
    "\n",
    "## Step 6: Make Predictions"
   ],
   "id": "ce110000-1111-2222-3333-ffffff000010"
  },
  {
   "cell_type": "code",
   "execution_count": null,
   "metadata": {
    "name": "cell12",
    "language": "python",
    "codeCollapsed": false
   },
   "outputs": [],
   "source": "# Predict the salary for a player with a certain age\nplayer_age=25\nage = session.create_dataframe([player_age], schema=['AGE'])\npredicted_salary = model.predict(age)\npredicted_salary",
   "id": "ce110000-1111-2222-3333-ffffff000011"
  },
  {
   "cell_type": "markdown",
   "id": "582adcd5-a31e-4390-b09a-d4b25c2af3e7",
   "metadata": {
    "name": "cell16",
    "collapsed": false
   },
   "source": "## Step 7. Fit a Neural Network Model"
  },
  {
   "cell_type": "code",
   "id": "01e15da1-6c17-4696-8508-a8ffaa257656",
   "metadata": {
    "language": "python",
    "name": "cell15",
    "collapsed": false,
    "codeCollapsed": false
   },
   "outputs": [],
   "source": "# Scale the data (standardization)\nscaler = StandardScaler(\n    input_cols=['AGE'],\n    output_cols=['AGE_SCALED']\n)\n\nscaler.fit(data_test)\ndata_train_scaled = scaler.transform(data_train)\ndata_test_scaled=scaler.transform(data_test)\n\n\n# Create the MLPRegressor model\nmlp = MLPRegressor(\n    input_cols=['AGE_SCALED'],\n    label_cols=labels,\n    hidden_layer_sizes=(64, 64), activation='relu', solver='lbfgs', max_iter=500, random_state=1)\n\n# Train the model\nres= mlp.fit(data_train_scaled)\n\npred_mlp=mlp.predict(data_test_scaled)",
   "execution_count": null
  },
  {
   "cell_type": "markdown",
   "id": "da08174e-e7f0-4450-8eff-922f1ed0d223",
   "metadata": {
    "name": "cell17",
    "collapsed": false
   },
   "source": "## Step 8. Evaluate a NNM"
  },
  {
   "cell_type": "code",
   "id": "f0635fe3-92de-47bd-9a0a-19211f98cc25",
   "metadata": {
    "language": "python",
    "name": "cell27",
    "codeCollapsed": false,
    "collapsed": false
   },
   "outputs": [],
   "source": "pred_mlp",
   "execution_count": null
  },
  {
   "cell_type": "code",
   "id": "a8931b9b-85d0-41a8-81af-0ca6646923ba",
   "metadata": {
    "language": "python",
    "name": "cell18",
    "codeCollapsed": false,
    "collapsed": false
   },
   "outputs": [],
   "source": "# pred_mlp=pred_mlp.sort(col('AGE_SCALED').desc())\ndata_test=data_test.sort(col('AGE').desc())\ndata_sorted=data.sort(col('AGE').desc())\n\npred_mlp=pred_mlp.sort(col('AGE_SCALED').desc())\n\n\nmse_mlp = metrics.mean_squared_error(df=pred_mlp,y_true_col_names=['SALARY'], y_pred_col_names=['OUTPUT_SALARY'])\nr2_mlp=metrics.r2_score(df=pred_mlp,y_true_col_name='SALARY', y_pred_col_name='OUTPUT_SALARY')\n\nprint(f'Mean Squared Error: {mse_mlp}')\nprint(f'R^2 Score: {r2_mlp}')\n\nx_test= np.array(data_test.select('AGE').collect())\ny_pred = np.array(pred_mlp.select('OUTPUT_SALARY').collect())\n\n# Visualize the results\nplt.scatter(x='AGE',y='SALARY',data=data_sorted.to_pandas(), color='blue', label='Actual')\n# plt.scatter(X_test, y_test, color='blue', label='Actual')\nplt.plot(x_test, y_pred, color='red', label='Predicted')\nplt.xlabel('Age')\nplt.ylabel('Salary')\nplt.title('MLPRegressor: Age vs Salary')\nplt.legend()\nplt.show()\n",
   "execution_count": null
  },
  {
   "cell_type": "markdown",
   "id": "9b1ea548-9a2c-4ced-b749-a17685bdfe5d",
   "metadata": {
    "name": "cell19",
    "collapsed": false
   },
   "source": "## Step 9. make predictions"
  },
  {
   "cell_type": "code",
   "id": "4991b419-5ada-4dce-b46d-ac09222fc57e",
   "metadata": {
    "language": "python",
    "name": "cell20",
    "codeCollapsed": false
   },
   "outputs": [],
   "source": "# Predict the salary for a player with a certain number of years played\nage = session.create_dataframe([player_age], schema=['AGE'])\n\nage_scaled = scaler.transform(age)\n\npredicted_salary = mlp.predict(age_scaled)\npredicted_salary\n\n",
   "execution_count": null
  },
  {
   "cell_type": "code",
   "id": "fa724afb-9553-403c-89fe-2ca17e56d1d6",
   "metadata": {
    "language": "sql",
    "name": "cell28",
    "codeCollapsed": false
   },
   "outputs": [],
   "source": "-- model registry\ncreate schema if not exists snowpark_playground.registry",
   "execution_count": null
  },
  {
   "cell_type": "code",
   "id": "9dd64c42-f160-41d3-a333-af9ed9354a7b",
   "metadata": {
    "language": "python",
    "name": "cell25",
    "codeCollapsed": false,
    "collapsed": false
   },
   "outputs": [],
   "source": "#create Registry object\nfrom snowflake.ml.registry import Registry\n\nreg = Registry(session=session, database_name=\"SNOWPARK_PLAYGROUND\", schema_name=\"REGISTRY\")\n",
   "execution_count": null
  },
  {
   "cell_type": "code",
   "id": "69506a0e-daee-4d19-9960-e072aeb74fbd",
   "metadata": {
    "language": "python",
    "name": "cell29",
    "collapsed": false,
    "codeCollapsed": false
   },
   "outputs": [],
   "source": "mv = reg.log_model(model,\n                   model_name=\"nba_salary_lin_reg\",\n                   # conda_dependencies=[\"scikit-learn\"],\n                   comment=\"A LinearRegression ML model that predicts NBA salaries\",\n                   metrics={\"r2\": r2},\n                   # sample_input_data=data_train,\n                   options = {'relax_version':False}\n                  )",
   "execution_count": null
  },
  {
   "cell_type": "code",
   "id": "8416164d-0b37-48cc-acad-9dd110060ecc",
   "metadata": {
    "language": "python",
    "name": "cell30",
    "codeCollapsed": false
   },
   "outputs": [],
   "source": "#what did we get back?\nmv",
   "execution_count": null
  },
  {
   "cell_type": "code",
   "id": "30b92348-e74c-4f2e-9d21-ce436f3a010c",
   "metadata": {
    "language": "python",
    "name": "cell31",
    "collapsed": false
   },
   "outputs": [],
   "source": "reg.log_model(mlp,\n             model_name=\"nba_salary_mlp\",\n             comment = \"A MLPRegressor ML model for predicting NBA salaries\",\n             metrics={\"r2\":r2_mlp,\"mse\":mse_mlp},\n            options = {'relax_version':False}\n            )",
   "execution_count": null
  },
  {
   "cell_type": "code",
   "id": "519d2e1d-ce73-4f11-968c-13e89b9de3fb",
   "metadata": {
    "language": "python",
    "name": "cell33"
   },
   "outputs": [],
   "source": "reg.show_models()",
   "execution_count": null
  },
  {
   "cell_type": "markdown",
   "metadata": {
    "name": "cell13",
    "collapsed": false
   },
   "source": "## Summary\nThis notebook provides a simple implementation of a linear regression model and MLPRegressor model to predict NBA salaries based on the age of the player. \nDepending on the available data, the model could be enhanced by incorporating additional features or by using more complex models.\n",
   "id": "ce110000-1111-2222-3333-ffffff000012"
  }
 ]
}