{
 "metadata": {
  "language_info": {
   "name": "python"
  }
 },
 "nbformat_minor": 2,
 "nbformat": 4,
 "cells": [
  {
   "cell_type": "markdown",
   "metadata": {
    "name": "cell1",
    "collapsed": false
   },
   "source": "# NBA Salary Prediction Based on Age of player\n\nThis notebook demonstrates how to build a simple machine learning model to predict the salary of an NBA player based on the number of years they have played in the league.\n\n## Step 1: Import Libraries and Load the Data",
   "id": "ce110000-1111-2222-3333-ffffff000000"
  },
  {
   "cell_type": "code",
   "execution_count": null,
   "metadata": {
    "name": "cell2",
    "language": "python",
    "collapsed": false,
    "codeCollapsed": false
   },
   "outputs": [],
   "source": "# import pandas as pd\nimport numpy as np\nimport matplotlib.pyplot as plt\nimport seaborn as sns\nimport streamlit as st\n\nfrom snowflake.ml.modeling.linear_model import LinearRegression\nfrom snowflake.ml.modeling.neural_network import MLPRegressor\nfrom snowflake.ml.modeling.metrics import mean_squared_error, r2_score\nfrom snowflake.ml.modeling.preprocessing import StandardScaler\n\n# Load your dataset from Snowflake\nfrom snowflake.snowpark.context import get_active_session\nsession = get_active_session()\n\n# data = pd.read_csv('nba_salary_data.csv')\n# data = session.table('SNOWPARK_PLAYGROUND.NBA.SALARIES').to_pandas()\ndata = session.table('SNOWPARK_PLAYGROUND.NBA.SALARIES')\n\n# Preview the data\ndata.show()",
   "id": "ce110000-1111-2222-3333-ffffff000001"
  },
  {
   "cell_type": "markdown",
   "metadata": {
    "name": "cell3",
    "collapsed": false
   },
   "source": [
    "## Step 2: Data Exploration and Visualization"
   ],
   "id": "ce110000-1111-2222-3333-ffffff000002"
  },
  {
   "cell_type": "code",
   "id": "2e5b4fa9-ac04-4d82-9685-129f6277602d",
   "metadata": {
    "language": "python",
    "name": "cell21"
   },
   "outputs": [],
   "source": "# schema\nlist(data.schema)",
   "execution_count": null
  },
  {
   "cell_type": "code",
   "id": "087ca991-a3fd-4d14-bce2-8423b2721402",
   "metadata": {
    "language": "python",
    "name": "cell22",
    "codeCollapsed": false
   },
   "outputs": [],
   "source": "from snowflake.snowpark import DataFrame\nfrom snowflake.snowpark.functions import lit, col, count\n\ndef null_columns(df: DataFrame):\n    total_records = df.count()\n    for column in df.columns:\n        not_null_count = count(column)\n        df = df.withColumn(column, lit(total_records - not_null_count))\n    return df.limit(1)\nnull_columns(data)",
   "execution_count": null
  },
  {
   "cell_type": "code",
   "execution_count": null,
   "metadata": {
    "name": "cell4",
    "language": "python",
    "codeCollapsed": false
   },
   "outputs": [],
   "source": "# Check for missing values\n# print(data.isnull().sum())\nimport altair as alt\n\n# Basic statistics\nst.write(data.describe())\n\n\n# Visualize the relationship between years played and salary\nsns.scatterplot(x='AGE', y='SALARY', data=data.to_pandas())\nplt.xlabel('AGE')\nplt.ylabel('SALARY')\nplt.title('Age vs Salary')\nplt.show()",
   "id": "ce110000-1111-2222-3333-ffffff000003"
  },
  {
   "cell_type": "code",
   "id": "20c4b42f-d780-483b-84d8-cc435a7269b3",
   "metadata": {
    "language": "python",
    "name": "cell14",
    "codeCollapsed": false
   },
   "outputs": [],
   "source": "data = data.dropna()\n# Check for missing values\n# print(data.isnull().sum())\nnull_columns(data)",
   "execution_count": null
  },
  {
   "cell_type": "markdown",
   "metadata": {
    "name": "cell5",
    "collapsed": false
   },
   "source": [
    "## Step 3: Prepare the Data"
   ],
   "id": "ce110000-1111-2222-3333-ffffff000004"
  },
  {
   "cell_type": "code",
   "execution_count": null,
   "metadata": {
    "name": "cell6",
    "language": "python",
    "codeCollapsed": false,
    "collapsed": false
   },
   "outputs": [],
   "source": "# Select the feature(s) and target variable\nX = data[['AGE']]  # Independent variable\ny = data['SALARY']         # Dependent variable\n\n# Split the data into training and testing sets\n# Split the data into train and test sets\ndata_train, data_test = data.random_split(weights=[0.8, 0.2], seed=0)\n# X_train, X_test, y_train, y_test = train_test_split(X, y, test_size=0.2, random_state=42)\n\n# data.shape[]\ndata_train.describe()\n\n# print(f'Training set size: {X_train.shape[0]}')\n# print(f'Test set size: {X_test.shape[0]}')",
   "id": "ce110000-1111-2222-3333-ffffff000005"
  },
  {
   "cell_type": "markdown",
   "metadata": {
    "name": "cell7",
    "collapsed": false
   },
   "source": [
    "## Step 4: Train the Model"
   ],
   "id": "ce110000-1111-2222-3333-ffffff000006"
  },
  {
   "cell_type": "code",
   "id": "d3db1623-0988-4670-aa96-6a94e8aace9a",
   "metadata": {
    "language": "python",
    "name": "cell23",
    "collapsed": false
   },
   "outputs": [],
   "source": "input_cols=['AGE']\noutput_cols=['SALARY']",
   "execution_count": null
  },
  {
   "cell_type": "code",
   "execution_count": null,
   "metadata": {
    "name": "cell8",
    "language": "python",
    "codeCollapsed": false
   },
   "outputs": [],
   "source": "# Create a linear regression model\nmodel = LinearRegression(\n    input_cols=input_cols,\n    label_cols=output_cols\n)\n\n# Train the model\nmodel.fit(data_train)\nmodel_local=model.to_sklearn()\n\n# Output the coefficients\nprint(f'Intercept: {model_local.intercept_}')\nprint(f'Coefficient: {model_local.coef_[0]}')",
   "id": "ce110000-1111-2222-3333-ffffff000007"
  },
  {
   "cell_type": "markdown",
   "metadata": {
    "name": "cell9",
    "collapsed": false
   },
   "source": [
    "## Step 5: Evaluate the Model"
   ],
   "id": "ce110000-1111-2222-3333-ffffff000008"
  },
  {
   "cell_type": "code",
   "id": "58111312-40f0-4a34-a6e8-bd5b2dfc4877",
   "metadata": {
    "language": "python",
    "name": "cell24",
    "collapsed": false,
    "codeCollapsed": false
   },
   "outputs": [],
   "source": "# Make predictions on the test set\npred = model.predict(data_test)",
   "execution_count": null
  },
  {
   "cell_type": "code",
   "execution_count": null,
   "metadata": {
    "name": "cell10",
    "language": "python",
    "codeCollapsed": false,
    "collapsed": false
   },
   "outputs": [],
   "source": "\n\n# Evaluate the model\n# mse = mean_squared_error(y_test, y_pred)\n# r2 = r2_score(y_test, y_pred)\n\n# print(f'Mean Squared Error: {mse}')\n# print(f'R^2 Score: {r2}')\n\n# # Visualize the regression line\n# plt.scatter(X_test, y_test, color='blue')\n# plt.plot(X_test, y_pred, color='red', linewidth=2)\n# plt.xlabel('Age')\n# plt.ylabel('Salary')\n# plt.title('Regression Line: Age vs Salary')\n# plt.show()\n\npred=pred.sort(col('AGE').desc())\n\ny_pred = np.array(pred.select('OUTPUT_SALARY').collect())\nx_test= np.array(pred.select('AGE').collect())\n\n# plt.scatter(x='AGE',y='OUTPUT_SALARY',data=pred.to_pandas(), color='red')\nplt.scatter(x='AGE',y='SALARY',data=data_test.to_pandas(), color='blue')\nplt.plot(x_test, y_pred, color='red', linewidth=2)\nplt.xlabel('AGE')\nplt.ylabel('SALARY')\nplt.title('Age vs Salary')\nplt.show()\n\n",
   "id": "ce110000-1111-2222-3333-ffffff000009"
  },
  {
   "cell_type": "markdown",
   "metadata": {
    "name": "cell11",
    "collapsed": false
   },
   "source": [
    "\n",
    "## Step 6: Make Predictions"
   ],
   "id": "ce110000-1111-2222-3333-ffffff000010"
  },
  {
   "cell_type": "code",
   "execution_count": null,
   "metadata": {
    "name": "cell12",
    "language": "python"
   },
   "outputs": [],
   "source": "# Predict the salary for a player with a certain age\nplayer_age=25\nage = session.create_dataframe([player_age], schema=['AGE'])\npredicted_salary = model.predict(age)\npredicted_salary",
   "id": "ce110000-1111-2222-3333-ffffff000011"
  },
  {
   "cell_type": "markdown",
   "id": "582adcd5-a31e-4390-b09a-d4b25c2af3e7",
   "metadata": {
    "name": "cell16",
    "collapsed": false
   },
   "source": "## Step 7. Fit a Neural Network Model"
  },
  {
   "cell_type": "code",
   "id": "01e15da1-6c17-4696-8508-a8ffaa257656",
   "metadata": {
    "language": "python",
    "name": "cell15",
    "collapsed": false,
    "codeCollapsed": false
   },
   "outputs": [],
   "source": "# Scale the data (standardization)\nscaler = StandardScaler(\n    input_cols=['AGE'],\n    output_cols=['AGE_SCALED']\n)\n\nscaler.fit(data_test)\ndata_train_scaled = scaler.transform(data_train)\ndata_test_scaled=scaler.transform(data_test)\n\n\n# Create the MLPRegressor model\nmlp = MLPRegressor(\n    input_cols=['AGE_SCALED'],\n    label_cols=output_cols,\n    hidden_layer_sizes=(64, 64), activation='relu', solver='lbfgs', max_iter=500, random_state=1)\n\n# Train the model\nres= mlp.fit(data_train_scaled)\n# mlp.fit(data_train)\n\npred_mlp=mlp.predict(data_test_scaled)",
   "execution_count": null
  },
  {
   "cell_type": "markdown",
   "id": "da08174e-e7f0-4450-8eff-922f1ed0d223",
   "metadata": {
    "name": "cell17",
    "collapsed": false
   },
   "source": "## Step 8. Evaluate a NNM"
  },
  {
   "cell_type": "code",
   "id": "f0635fe3-92de-47bd-9a0a-19211f98cc25",
   "metadata": {
    "language": "python",
    "name": "cell27",
    "codeCollapsed": false,
    "collapsed": false
   },
   "outputs": [],
   "source": "pred_mlp",
   "execution_count": null
  },
  {
   "cell_type": "code",
   "id": "c45dba66-bc67-4295-848a-b027253c5bb5",
   "metadata": {
    "language": "python",
    "name": "cell26",
    "codeCollapsed": false,
    "collapsed": false
   },
   "outputs": [],
   "source": "pred=pred_mlp.sort(col('AGE').desc())\n\ny_pred_mlp = np.array(pred_mlp.select('OUTPUT_SALARY').collect())\nx_test_mlp= np.array(pred_mlp.select('AGE').collect())\n\nplt.scatter(x='AGE',y='SALARY',data=data_test.to_pandas(), color='blue', label='Actual')\n\nplt.scatter(x_test_mlp, y_test, color='blue', label='Actual')\nplt.scatter(X_test, y_pred, color='red', label='Predicted')\nplt.xlabel('Years Played')\nplt.ylabel('Salary')\nplt.title('MLPRegressor: Years Played vs Salary')\nplt.legend()\nplt.show()",
   "execution_count": null
  },
  {
   "cell_type": "code",
   "id": "a8931b9b-85d0-41a8-81af-0ca6646923ba",
   "metadata": {
    "language": "python",
    "name": "cell18",
    "codeCollapsed": false,
    "collapsed": false
   },
   "outputs": [],
   "source": "pred=pred_mlp.sort(col('AGE').desc())\n\n# Evaluate the model\n# mse = mean_squared_error(y_test, y_pred)\n# r2 = r2_score(y_test, y_pred)\n\n# print(f'Mean Squared Error: {mse}')\n# print(f'R^2 Score: {r2}')\nx_test= np.array(data_test.select('AGE').collect())\ny_pred = np.array(pred_mlp.select('OUTPUT_SALARY').collect())\n\n# Visualize the results\nplt.scatter(x='AGE',y='SALARY',data=data_test.to_pandas(), color='blue', label='Actual')\n# plt.scatter(X_test, y_test, color='blue', label='Actual')\nplt.scatter(x_test, y_pred, color='red', label='Predicted')\nplt.xlabel('Age')\nplt.ylabel('Salary')\nplt.title('MLPRegressor: Age vs Salary')\nplt.legend()\nplt.show()\n",
   "execution_count": null
  },
  {
   "cell_type": "markdown",
   "id": "9b1ea548-9a2c-4ced-b749-a17685bdfe5d",
   "metadata": {
    "name": "cell19",
    "collapsed": false
   },
   "source": "## Step 9. make predictions"
  },
  {
   "cell_type": "code",
   "id": "4991b419-5ada-4dce-b46d-ac09222fc57e",
   "metadata": {
    "language": "python",
    "name": "cell20"
   },
   "outputs": [],
   "source": "# Predict the salary for a player with a certain number of years played\nage = session.create_dataframe([player_age], schema=['AGE'])\n\n# age = np.array([[5]])  # Example: predicting salary for a player with 5 years played\nage_scaled = scaler.transform(age)\n\npredicted_salary = mlp.predict(age_scaled)\npredicted_salary\n\n",
   "execution_count": null
  },
  {
   "cell_type": "markdown",
   "metadata": {
    "name": "cell13",
    "collapsed": false
   },
   "source": [
    "## Summary\n",
    "This notebook provides a simple implementation of a linear regression model to predict NBA salaries based on the number of years played. Depending on the available data, the model could be enhanced by incorporating additional features or by using more complex algorithms.\n"
   ],
   "id": "ce110000-1111-2222-3333-ffffff000012"
  }
 ]
}