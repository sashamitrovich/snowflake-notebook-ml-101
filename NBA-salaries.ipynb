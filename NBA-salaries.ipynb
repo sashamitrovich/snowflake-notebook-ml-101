{
 "metadata": {
  "language_info": {
   "name": "python"
  }
 },
 "nbformat_minor": 2,
 "nbformat": 4,
 "cells": [
  {
   "cell_type": "markdown",
   "metadata": {
    "name": "cell1"
   },
   "source": [
    "# NBA Salary Prediction Based on Years Played\n",
    "\n",
    "This notebook demonstrates how to build a simple machine learning model to predict the salary of an NBA player based on the number of years they have played in the league.\n",
    "\n",
    "## Step 1: Import Libraries and Load the Data"
   ],
   "id": "ce110000-1111-2222-3333-ffffff000000"
  },
  {
   "cell_type": "code",
   "execution_count": null,
   "metadata": {
    "name": "cell2",
    "language": "python"
   },
   "outputs": [],
   "source": "import pandas as pd\nimport numpy as np\nimport matplotlib.pyplot as plt\nimport seaborn as sns\nfrom sklearn.model_selection import train_test_split\nfrom sklearn.linear_model import LinearRegression\nfrom sklearn.neural_network import MLPRegressor\nfrom sklearn.metrics import mean_squared_error, r2_score\nfrom sklearn.preprocessing import StandardScaler\n\n# Load your dataset from Snowflake\nfrom snowflake.snowpark.context import get_active_session\nsession = get_active_session()\n\n# data = pd.read_csv('nba_salary_data.csv')\ndata = session.table('SNOWPARK_PLAYGROUND.NBA.SALARIES').to_pandas()\n\n# Preview the data\nprint(data.head())",
   "id": "ce110000-1111-2222-3333-ffffff000001"
  },
  {
   "cell_type": "markdown",
   "metadata": {
    "name": "cell3",
    "collapsed": false
   },
   "source": [
    "## Step 2: Data Exploration and Visualization"
   ],
   "id": "ce110000-1111-2222-3333-ffffff000002"
  },
  {
   "cell_type": "code",
   "execution_count": null,
   "metadata": {
    "name": "cell4",
    "language": "python"
   },
   "outputs": [],
   "source": "# Check for missing values\nprint(data.isnull().sum())\n\n# Basic statistics\nprint(data.describe())\n\n# Visualize the relationship between years played and salary\nsns.scatterplot(x='AGE', y='SALARY', data=data)\nplt.xlabel('AGE')\nplt.ylabel('SALARY')\nplt.title('Age vs Salary')\nplt.show()",
   "id": "ce110000-1111-2222-3333-ffffff000003"
  },
  {
   "cell_type": "code",
   "id": "20c4b42f-d780-483b-84d8-cc435a7269b3",
   "metadata": {
    "language": "python",
    "name": "cell14"
   },
   "outputs": [],
   "source": "data = data.dropna()\n# Check for missing values\nprint(data.isnull().sum())",
   "execution_count": null
  },
  {
   "cell_type": "markdown",
   "metadata": {
    "name": "cell5",
    "collapsed": false
   },
   "source": [
    "## Step 3: Prepare the Data"
   ],
   "id": "ce110000-1111-2222-3333-ffffff000004"
  },
  {
   "cell_type": "code",
   "execution_count": null,
   "metadata": {
    "name": "cell6",
    "language": "python",
    "codeCollapsed": false
   },
   "outputs": [],
   "source": "# Select the feature(s) and target variable\nX = data[['AGE']]  # Independent variable\ny = data['SALARY']         # Dependent variable\n\n# Split the data into training and testing sets\nX_train, X_test, y_train, y_test = train_test_split(X, y, test_size=0.2, random_state=42)\n\nprint(f'Training set size: {X_train.shape[0]}')\nprint(f'Test set size: {X_test.shape[0]}')",
   "id": "ce110000-1111-2222-3333-ffffff000005"
  },
  {
   "cell_type": "markdown",
   "metadata": {
    "name": "cell7",
    "collapsed": false
   },
   "source": [
    "## Step 4: Train the Model"
   ],
   "id": "ce110000-1111-2222-3333-ffffff000006"
  },
  {
   "cell_type": "code",
   "execution_count": null,
   "metadata": {
    "name": "cell8",
    "language": "python",
    "codeCollapsed": false
   },
   "outputs": [],
   "source": [
    "# Create a linear regression model\n",
    "model = LinearRegression()\n",
    "\n",
    "# Train the model\n",
    "model.fit(X_train, y_train)\n",
    "\n",
    "# Output the coefficients\n",
    "print(f'Intercept: {model.intercept_}')\n",
    "print(f'Coefficient: {model.coef_[0]}')"
   ],
   "id": "ce110000-1111-2222-3333-ffffff000007"
  },
  {
   "cell_type": "markdown",
   "metadata": {
    "name": "cell9",
    "collapsed": false
   },
   "source": [
    "## Step 5: Evaluate the Model"
   ],
   "id": "ce110000-1111-2222-3333-ffffff000008"
  },
  {
   "cell_type": "code",
   "execution_count": null,
   "metadata": {
    "name": "cell10",
    "language": "python",
    "codeCollapsed": false
   },
   "outputs": [],
   "source": "# Make predictions on the test set\ny_pred = model.predict(X_test)\n\n# Evaluate the model\nmse = mean_squared_error(y_test, y_pred)\nr2 = r2_score(y_test, y_pred)\n\nprint(f'Mean Squared Error: {mse}')\nprint(f'R^2 Score: {r2}')\n\n# Visualize the regression line\nplt.scatter(X_test, y_test, color='blue')\nplt.plot(X_test, y_pred, color='red', linewidth=2)\nplt.xlabel('Age')\nplt.ylabel('Salary')\nplt.title('Regression Line: Age vs Salary')\nplt.show()",
   "id": "ce110000-1111-2222-3333-ffffff000009"
  },
  {
   "cell_type": "markdown",
   "metadata": {
    "name": "cell11",
    "collapsed": false
   },
   "source": [
    "\n",
    "## Step 6: Make Predictions"
   ],
   "id": "ce110000-1111-2222-3333-ffffff000010"
  },
  {
   "cell_type": "code",
   "execution_count": null,
   "metadata": {
    "name": "cell12",
    "language": "python"
   },
   "outputs": [],
   "source": "# Predict the salary for a player with a certain number of years played\nage = np.array([[5]])  # Example: predicting salary for a player with 5 years played\npredicted_salary = model.predict(age)\nprint(f'Predicted Salary for {age[0][0]} years played: ${predicted_salary[0]:.2f}')",
   "id": "ce110000-1111-2222-3333-ffffff000011"
  },
  {
   "cell_type": "markdown",
   "id": "582adcd5-a31e-4390-b09a-d4b25c2af3e7",
   "metadata": {
    "name": "cell16",
    "collapsed": false
   },
   "source": "## Step 7. Fit a Neural Network Model"
  },
  {
   "cell_type": "code",
   "id": "01e15da1-6c17-4696-8508-a8ffaa257656",
   "metadata": {
    "language": "python",
    "name": "cell15",
    "collapsed": false
   },
   "outputs": [],
   "source": "# Scale the data (standardization)\nscaler = StandardScaler()\nX_train_scaled = scaler.fit_transform(X_train)\nX_test_scaled = scaler.transform(X_test)\n\n# Create the MLPRegressor model\nmlp = MLPRegressor(hidden_layer_sizes=(64, 64), activation='relu', solver='adam', max_iter=500, random_state=42)\n\n# Train the model\nmlp.fit(X_train_scaled, y_train)\n",
   "execution_count": null
  },
  {
   "cell_type": "markdown",
   "id": "da08174e-e7f0-4450-8eff-922f1ed0d223",
   "metadata": {
    "name": "cell17",
    "collapsed": false
   },
   "source": "## Step 8. Evaluate a NNM"
  },
  {
   "cell_type": "code",
   "id": "a8931b9b-85d0-41a8-81af-0ca6646923ba",
   "metadata": {
    "language": "python",
    "name": "cell18",
    "codeCollapsed": false
   },
   "outputs": [],
   "source": "# Make predictions on the test set\ny_pred = mlp.predict(X_test_scaled)\n\n# Evaluate the model\nmse = mean_squared_error(y_test, y_pred)\nr2 = r2_score(y_test, y_pred)\n\nprint(f'Mean Squared Error: {mse}')\nprint(f'R^2 Score: {r2}')\n\n# Visualize the results\nplt.scatter(X_test, y_test, color='blue', label='Actual')\nplt.scatter(X_test, y_pred, color='red', label='Predicted')\nplt.xlabel('Age')\nplt.ylabel('Salary')\nplt.title('MLPRegressor: Age vs Salary')\nplt.legend()\nplt.show()\n",
   "execution_count": null
  },
  {
   "cell_type": "markdown",
   "id": "9b1ea548-9a2c-4ced-b749-a17685bdfe5d",
   "metadata": {
    "name": "cell19",
    "collapsed": false
   },
   "source": "## Step 9. make predictions"
  },
  {
   "cell_type": "code",
   "id": "4991b419-5ada-4dce-b46d-ac09222fc57e",
   "metadata": {
    "language": "python",
    "name": "cell20"
   },
   "outputs": [],
   "source": "# Predict the salary for a player with a certain number of years played\nage = np.array([[5]])  # Example: predicting salary for a player with 5 years played\nage_scaled = scaler.transform(age)\npredicted_salary = mlp.predict(age_scaled)\nprint(f'Predicted Salary for {age[0][0]} years played: ${predicted_salary[0]:.2f}')\n",
   "execution_count": null
  },
  {
   "cell_type": "markdown",
   "metadata": {
    "name": "cell13",
    "collapsed": false
   },
   "source": [
    "## Summary\n",
    "This notebook provides a simple implementation of a linear regression model to predict NBA salaries based on the number of years played. Depending on the available data, the model could be enhanced by incorporating additional features or by using more complex algorithms.\n"
   ],
   "id": "ce110000-1111-2222-3333-ffffff000012"
  }
 ]
}